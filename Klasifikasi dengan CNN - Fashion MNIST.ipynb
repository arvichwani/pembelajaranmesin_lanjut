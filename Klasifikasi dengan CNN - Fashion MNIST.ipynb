{
  "nbformat": 4,
  "nbformat_minor": 0,
  "metadata": {
    "colab": {
      "name": "Klasifikasi dengan CNN Fashion MNIST.ipynb",
      "provenance": [],
      "collapsed_sections": [],
      "toc_visible": true
    },
    "kernelspec": {
      "name": "python3",
      "display_name": "Python 3"
    },
    "language_info": {
      "name": "python"
    },
    "accelerator": "GPU"
  },
  "cells": [
    {
      "cell_type": "markdown",
      "source": [
        "# CNN"
      ],
      "metadata": {
        "id": "3nql5eWwXAYs"
      }
    },
    {
      "cell_type": "markdown",
      "source": [
        "# Import Library"
      ],
      "metadata": {
        "id": "CgWU21ThYXKn"
      }
    },
    {
      "cell_type": "code",
      "source": [
        "!pip install -q -U tensorflow>=1.8.0\n",
        "import tensorflow as tf\n",
        "\n",
        "import numpy as np\n",
        "import matplotlib.pyplot as plt\n",
        "\n",
        "# Load the fashion-mnist pre-shuffled train data and test data\n",
        "(x_train, y_train), (x_test, y_test) = tf.keras.datasets.fashion_mnist.load_data()\n",
        "\n",
        "print(\"x_train shape:\", x_train.shape, \"y_train shape:\", y_train.shape)"
      ],
      "metadata": {
        "colab": {
          "base_uri": "https://localhost:8080/"
        },
        "id": "b1YifVeTYeSJ",
        "outputId": "dd01af85-a559-4e79-a319-7783634a80a4"
      },
      "execution_count": 5,
      "outputs": [
        {
          "output_type": "stream",
          "name": "stdout",
          "text": [
            "Downloading data from https://storage.googleapis.com/tensorflow/tf-keras-datasets/train-labels-idx1-ubyte.gz\n",
            "32768/29515 [=================================] - 0s 0us/step\n",
            "40960/29515 [=========================================] - 0s 0us/step\n",
            "Downloading data from https://storage.googleapis.com/tensorflow/tf-keras-datasets/train-images-idx3-ubyte.gz\n",
            "26427392/26421880 [==============================] - 0s 0us/step\n",
            "26435584/26421880 [==============================] - 0s 0us/step\n",
            "Downloading data from https://storage.googleapis.com/tensorflow/tf-keras-datasets/t10k-labels-idx1-ubyte.gz\n",
            "16384/5148 [===============================================================================================] - 0s 0us/step\n",
            "Downloading data from https://storage.googleapis.com/tensorflow/tf-keras-datasets/t10k-images-idx3-ubyte.gz\n",
            "4423680/4422102 [==============================] - 0s 0us/step\n",
            "4431872/4422102 [==============================] - 0s 0us/step\n",
            "x_train shape: (60000, 28, 28) y_train shape: (60000,)\n"
          ]
        }
      ]
    },
    {
      "cell_type": "markdown",
      "source": [
        "# Visualisasi Data"
      ],
      "metadata": {
        "id": "YkshYzf08YCT"
      }
    },
    {
      "cell_type": "code",
      "source": [
        "# Print training set shape - note there are 60,000 training data of image size of 28x28, 60,000 train labels)\n",
        "print(\"x_train shape:\", x_train.shape, \"y_train shape:\", y_train.shape)\n",
        "\n",
        "# Print the number of training and test datasets\n",
        "print(x_train.shape[0], 'train set')\n",
        "print(x_test.shape[0], 'test set')\n",
        "\n",
        "# Define the text labels\n",
        "fashion_mnist_labels = [\"T-shirt/top\",  # index 0\n",
        "                        \"Trouser\",      # index 1\n",
        "                        \"Pullover\",     # index 2 \n",
        "                        \"Dress\",        # index 3 \n",
        "                        \"Coat\",         # index 4\n",
        "                        \"Sandal\",       # index 5\n",
        "                        \"Shirt\",        # index 6 \n",
        "                        \"Sneaker\",      # index 7 \n",
        "                        \"Bag\",          # index 8 \n",
        "                        \"Ankle boot\"]   # index 9\n",
        "\n",
        "# Image index, you can pick any number between 0 and 59,999\n",
        "img_index = 5\n",
        "# y_train contains the lables, ranging from 0 to 9\n",
        "label_index = y_train[img_index]\n",
        "# Print the label, for example 2 Pullover\n",
        "print (\"y = \" + str(label_index) + \" \" +(fashion_mnist_labels[label_index]))\n",
        "# # Show one of the images from the training dataset\n",
        "plt.imshow(x_train[img_index])"
      ],
      "metadata": {
        "colab": {
          "base_uri": "https://localhost:8080/",
          "height": 352
        },
        "id": "DAbZXCXS8enW",
        "outputId": "262d0fdd-5737-440a-d90b-1cae25c909cb"
      },
      "execution_count": 6,
      "outputs": [
        {
          "output_type": "stream",
          "name": "stdout",
          "text": [
            "x_train shape: (60000, 28, 28) y_train shape: (60000,)\n",
            "60000 train set\n",
            "10000 test set\n",
            "y = 2 Pullover\n"
          ]
        },
        {
          "output_type": "execute_result",
          "data": {
            "text/plain": [
              "<matplotlib.image.AxesImage at 0x7f7ed02f1590>"
            ]
          },
          "metadata": {},
          "execution_count": 6
        },
        {
          "output_type": "display_data",
          "data": {
            "text/plain": [
              "<Figure size 432x288 with 1 Axes>"
            ],
            "image/png": "[encoded data removed]"
          },
          "metadata": {
            "needs_background": "light"
          }
        }
      ]
    },
    {
      "cell_type": "markdown",
      "source": [
        "# Normalisasi Data\n",
        "Normalisasikan dimensi data sehingga memiliki skala yang kira-kira sama"
      ],
      "metadata": {
        "id": "-cAGXorM8n53"
      }
    },
    {
      "cell_type": "code",
      "source": [
        "x_train = x_train.astype('float32') / 255\n",
        "x_test = x_test.astype('float32') / 255"
      ],
      "metadata": {
        "id": "tTZ_U9F28tVi"
      },
      "execution_count": 7,
      "outputs": []
    },
    {
      "cell_type": "code",
      "source": [
        "print(\"Number of train data - \" + str(len(x_train)))\n",
        "print(\"Number of test data - \" + str(len(x_test)))"
      ],
      "metadata": {
        "colab": {
          "base_uri": "https://localhost:8080/"
        },
        "id": "NLzbywPl8x90",
        "outputId": "87c8c9d8-4bc6-448d-a3cb-c4c2222946cd"
      },
      "execution_count": 8,
      "outputs": [
        {
          "output_type": "stream",
          "name": "stdout",
          "text": [
            "Number of train data - 60000\n",
            "Number of test data - 10000\n"
          ]
        }
      ]
    },
    {
      "cell_type": "markdown",
      "source": [
        "# Membagi Dataset\n",
        "\n",
        "\n",
        "*   Data pelatihan - digunakan untuk melatih model\n",
        "*   Data validasi - digunakan untuk menyetel hyperparameter dan mengevaluasi model\n",
        "*   Data uji - digunakan untuk menguji model setelah model melewati pemeriksaan awal oleh set validasi\n",
        "\n",
        "\n",
        "\n",
        "\n",
        "\n"
      ],
      "metadata": {
        "id": "HncmTSUw81ZK"
      }
    },
    {
      "cell_type": "code",
      "source": [
        "# Further break training data into train / validation sets (# put 5000 into validation set and keep remaining 55,000 for train)\n",
        "(x_train, x_valid) = x_train[5000:], x_train[:5000] \n",
        "(y_train, y_valid) = y_train[5000:], y_train[:5000]\n",
        "\n",
        "# Reshape input data from (28, 28) to (28, 28, 1)\n",
        "w, h = 28, 28\n",
        "x_train = x_train.reshape(x_train.shape[0], w, h, 1)\n",
        "x_valid = x_valid.reshape(x_valid.shape[0], w, h, 1)\n",
        "x_test = x_test.reshape(x_test.shape[0], w, h, 1)\n",
        "\n",
        "# One-hot encode the labels\n",
        "y_train = tf.keras.utils.to_categorical(y_train, 10)\n",
        "y_valid = tf.keras.utils.to_categorical(y_valid, 10)\n",
        "y_test = tf.keras.utils.to_categorical(y_test, 10)\n",
        "\n",
        "# Print training set shape\n",
        "print(\"x_train shape:\", x_train.shape, \"y_train shape:\", y_train.shape)\n",
        "\n",
        "# Print the number of training, validation, and test datasets\n",
        "print(x_train.shape[0], 'train set')\n",
        "print(x_valid.shape[0], 'validation set')\n",
        "print(x_test.shape[0], 'test set')"
      ],
      "metadata": {
        "colab": {
          "base_uri": "https://localhost:8080/"
        },
        "id": "ZW61RcZi85ml",
        "outputId": "ea7dfeb7-7dcb-4fb4-f9f2-e5424ccf750d"
      },
      "execution_count": 9,
      "outputs": [
        {
          "output_type": "stream",
          "name": "stdout",
          "text": [
            "x_train shape: (55000, 28, 28, 1) y_train shape: (55000, 10)\n",
            "55000 train set\n",
            "5000 validation set\n",
            "10000 test set\n"
          ]
        }
      ]
    },
    {
      "cell_type": "markdown",
      "source": [
        "# Membuat Model Arsitektur"
      ],
      "metadata": {
        "id": "HLcBJqz19Owd"
      }
    },
    {
      "cell_type": "code",
      "source": [
        "model = tf.keras.Sequential()\n",
        "\n",
        "# Must define the input shape in the first layer of the neural network\n",
        "model.add(tf.keras.layers.Conv2D(filters=64, kernel_size=2, padding='same', activation='relu', input_shape=(28,28,1))) \n",
        "model.add(tf.keras.layers.MaxPooling2D(pool_size=2))\n",
        "model.add(tf.keras.layers.Dropout(0.3))\n",
        "\n",
        "model.add(tf.keras.layers.Conv2D(filters=32, kernel_size=2, padding='same', activation='relu'))\n",
        "model.add(tf.keras.layers.MaxPooling2D(pool_size=2))\n",
        "model.add(tf.keras.layers.Dropout(0.3))\n",
        "\n",
        "model.add(tf.keras.layers.Flatten())\n",
        "model.add(tf.keras.layers.Dense(256, activation='relu'))\n",
        "model.add(tf.keras.layers.Dropout(0.5))\n",
        "model.add(tf.keras.layers.Dense(10, activation='softmax'))\n",
        "\n",
        "# Take a look at the model summary\n",
        "model.summary()"
      ],
      "metadata": {
        "colab": {
          "base_uri": "https://localhost:8080/"
        },
        "id": "MXNqW57j9Qsf",
        "outputId": "0bf45f3e-3b1c-40e9-ed18-b29f95a945a6"
      },
      "execution_count": 10,
      "outputs": [
        {
          "output_type": "stream",
          "name": "stdout",
          "text": [
            "Model: \"sequential\"\n",
            "_________________________________________________________________\n",
            " Layer (type)                Output Shape              Param #   \n",
            "=================================================================\n",
            " conv2d (Conv2D)             (None, 28, 28, 64)        320       \n",
            "                                                                 \n",
            " max_pooling2d (MaxPooling2D  (None, 14, 14, 64)       0         \n",
            " )                                                               \n",
            "                                                                 \n",
            " dropout (Dropout)           (None, 14, 14, 64)        0         \n",
            "                                                                 \n",
            " conv2d_1 (Conv2D)           (None, 14, 14, 32)        8224      \n",
            "                                                                 \n",
            " max_pooling2d_1 (MaxPooling  (None, 7, 7, 32)         0         \n",
            " 2D)                                                             \n",
            "                                                                 \n",
            " dropout_1 (Dropout)         (None, 7, 7, 32)          0         \n",
            "                                                                 \n",
            " flatten (Flatten)           (None, 1568)              0         \n",
            "                                                                 \n",
            " dense (Dense)               (None, 256)               401664    \n",
            "                                                                 \n",
            " dropout_2 (Dropout)         (None, 256)               0         \n",
            "                                                                 \n",
            " dense_1 (Dense)             (None, 10)                2570      \n",
            "                                                                 \n",
            "=================================================================\n",
            "Total params: 412,778\n",
            "Trainable params: 412,778\n",
            "Non-trainable params: 0\n",
            "_________________________________________________________________\n"
          ]
        }
      ]
    },
    {
      "cell_type": "markdown",
      "source": [
        "# Kompilasi Model\n",
        "Konfigurasikan proses pembelajaran dengan compile() API sebelum melatih model. Menggunakan tiga buah argumen:\n",
        "\n",
        "*   An optimizer\n",
        "*   A loss function\n",
        "*   A list of metrics\n",
        "\n",
        "\n",
        "\n",
        "\n",
        "\n"
      ],
      "metadata": {
        "id": "rS8hES9B9ZjP"
      }
    },
    {
      "cell_type": "code",
      "source": [
        "model.compile(loss='categorical_crossentropy',\n",
        "             optimizer='adam',\n",
        "             metrics=['accuracy'])"
      ],
      "metadata": {
        "id": "00SHIhqJ9ipe"
      },
      "execution_count": 11,
      "outputs": []
    },
    {
      "cell_type": "markdown",
      "source": [
        "# Melatih Model"
      ],
      "metadata": {
        "id": "VlWtpeRw9llq"
      }
    },
    {
      "cell_type": "code",
      "source": [
        "from keras.callbacks import ModelCheckpoint\n",
        "\n",
        "checkpointer = ModelCheckpoint(filepath='model.weights.best.hdf5', verbose = 1, save_best_only=True)\n",
        "model.fit(x_train,\n",
        "         y_train,\n",
        "         batch_size=64,\n",
        "         epochs=10,\n",
        "         validation_data=(x_valid, y_valid),\n",
        "         callbacks=[checkpointer])"
      ],
      "metadata": {
        "colab": {
          "base_uri": "https://localhost:8080/"
        },
        "id": "LH_CUS1V9pwJ",
        "outputId": "a0364208-6e5d-4764-d9c6-24622ad85802"
      },
      "execution_count": 12,
      "outputs": [
        {
          "output_type": "stream",
          "name": "stdout",
          "text": [
            "Epoch 1/10\n",
            "860/860 [==============================] - ETA: 0s - loss: 0.6182 - accuracy: 0.7731\n",
            "Epoch 1: val_loss improved from inf to 0.39261, saving model to model.weights.best.hdf5\n",
            "860/860 [==============================] - 19s 11ms/step - loss: 0.6182 - accuracy: 0.7731 - val_loss: 0.3926 - val_accuracy: 0.8654\n",
            "Epoch 2/10\n",
            "857/860 [============================>.] - ETA: 0s - loss: 0.4205 - accuracy: 0.8481\n",
            "Epoch 2: val_loss improved from 0.39261 to 0.34515, saving model to model.weights.best.hdf5\n",
            "860/860 [==============================] - 9s 10ms/step - loss: 0.4204 - accuracy: 0.8481 - val_loss: 0.3452 - val_accuracy: 0.8774\n",
            "Epoch 3/10\n",
            "859/860 [============================>.] - ETA: 0s - loss: 0.3717 - accuracy: 0.8650\n",
            "Epoch 3: val_loss improved from 0.34515 to 0.30743, saving model to model.weights.best.hdf5\n",
            "860/860 [==============================] - 9s 10ms/step - loss: 0.3717 - accuracy: 0.8650 - val_loss: 0.3074 - val_accuracy: 0.8894\n",
            "Epoch 4/10\n",
            "855/860 [============================>.] - ETA: 0s - loss: 0.3465 - accuracy: 0.8745\n",
            "Epoch 4: val_loss improved from 0.30743 to 0.28221, saving model to model.weights.best.hdf5\n",
            "860/860 [==============================] - 9s 10ms/step - loss: 0.3467 - accuracy: 0.8745 - val_loss: 0.2822 - val_accuracy: 0.8952\n",
            "Epoch 5/10\n",
            "860/860 [==============================] - ETA: 0s - loss: 0.3265 - accuracy: 0.8793\n",
            "Epoch 5: val_loss improved from 0.28221 to 0.27105, saving model to model.weights.best.hdf5\n",
            "860/860 [==============================] - 9s 10ms/step - loss: 0.3265 - accuracy: 0.8793 - val_loss: 0.2710 - val_accuracy: 0.8976\n",
            "Epoch 6/10\n",
            "860/860 [==============================] - ETA: 0s - loss: 0.3072 - accuracy: 0.8869\n",
            "Epoch 6: val_loss improved from 0.27105 to 0.24732, saving model to model.weights.best.hdf5\n",
            "860/860 [==============================] - 9s 10ms/step - loss: 0.3072 - accuracy: 0.8869 - val_loss: 0.2473 - val_accuracy: 0.9084\n",
            "Epoch 7/10\n",
            "859/860 [============================>.] - ETA: 0s - loss: 0.2924 - accuracy: 0.8927\n",
            "Epoch 7: val_loss did not improve from 0.24732\n",
            "860/860 [==============================] - 8s 10ms/step - loss: 0.2923 - accuracy: 0.8928 - val_loss: 0.2484 - val_accuracy: 0.9054\n",
            "Epoch 8/10\n",
            "856/860 [============================>.] - ETA: 0s - loss: 0.2844 - accuracy: 0.8961\n",
            "Epoch 8: val_loss improved from 0.24732 to 0.23388, saving model to model.weights.best.hdf5\n",
            "860/860 [==============================] - 9s 10ms/step - loss: 0.2846 - accuracy: 0.8960 - val_loss: 0.2339 - val_accuracy: 0.9130\n",
            "Epoch 9/10\n",
            "856/860 [============================>.] - ETA: 0s - loss: 0.2750 - accuracy: 0.8992\n",
            "Epoch 9: val_loss did not improve from 0.23388\n",
            "860/860 [==============================] - 8s 10ms/step - loss: 0.2752 - accuracy: 0.8991 - val_loss: 0.2348 - val_accuracy: 0.9162\n",
            "Epoch 10/10\n",
            "856/860 [============================>.] - ETA: 0s - loss: 0.2702 - accuracy: 0.9003\n",
            "Epoch 10: val_loss improved from 0.23388 to 0.22844, saving model to model.weights.best.hdf5\n",
            "860/860 [==============================] - 8s 10ms/step - loss: 0.2704 - accuracy: 0.9001 - val_loss: 0.2284 - val_accuracy: 0.9172\n"
          ]
        },
        {
          "output_type": "execute_result",
          "data": {
            "text/plain": [
              "<keras.callbacks.History at 0x7f7e56a85710>"
            ]
          },
          "metadata": {},
          "execution_count": 12
        }
      ]
    },
    {
      "cell_type": "markdown",
      "source": [
        "# Model Terpilih \n",
        "Muat Model dengan akurasi validasi terbaik"
      ],
      "metadata": {
        "id": "hKrynox_9-YL"
      }
    },
    {
      "cell_type": "code",
      "source": [
        "# Load the weights with the best validation accuracy\n",
        "model.load_weights('model.weights.best.hdf5')"
      ],
      "metadata": {
        "id": "U4tHlk1I-Ic0"
      },
      "execution_count": 13,
      "outputs": []
    },
    {
      "cell_type": "markdown",
      "source": [
        "# Pengujian Akurasi"
      ],
      "metadata": {
        "id": "i-gZ49Ps-Sjy"
      }
    },
    {
      "cell_type": "code",
      "source": [
        "# Evaluate the model on test set\n",
        "score = model.evaluate(x_test, y_test, verbose=0)\n",
        "\n",
        "# Print test accuracy\n",
        "print('\\n', 'Test accuracy:', score[1])"
      ],
      "metadata": {
        "colab": {
          "base_uri": "https://localhost:8080/"
        },
        "id": "FsM6Jtu9-UBY",
        "outputId": "ce111581-9cc8-496f-dd68-e92e8f318c23"
      },
      "execution_count": 14,
      "outputs": [
        {
          "output_type": "stream",
          "name": "stdout",
          "text": [
            "\n",
            " Test accuracy: 0.9122999906539917\n"
          ]
        }
      ]
    },
    {
      "cell_type": "markdown",
      "source": [
        "# Visualisasi Hasil Prediksi"
      ],
      "metadata": {
        "id": "jAxW7K0L-aza"
      }
    },
    {
      "cell_type": "code",
      "source": [
        "y_hat = model.predict(x_test)\n",
        "\n",
        "# Plot a random sample of 10 test images, their predicted labels and ground truth\n",
        "figure = plt.figure(figsize=(20, 8))\n",
        "for i, index in enumerate(np.random.choice(x_test.shape[0], size=15, replace=False)):\n",
        "    ax = figure.add_subplot(3, 5, i + 1, xticks=[], yticks=[])\n",
        "    # Display each image\n",
        "    ax.imshow(np.squeeze(x_test[index]))\n",
        "    predict_index = np.argmax(y_hat[index])\n",
        "    true_index = np.argmax(y_test[index])\n",
        "    # Set the title for each image\n",
        "    ax.set_title(\"{} ({})\".format(fashion_mnist_labels[predict_index], \n",
        "                                  fashion_mnist_labels[true_index]),\n",
        "                                  color=(\"green\" if predict_index == true_index else \"red\"))"
      ],
      "metadata": {
        "colab": {
          "base_uri": "https://localhost:8080/",
          "height": 398
        },
        "id": "HJujpHKD-ceg",
        "outputId": "117f0606-7473-483e-e7ab-c2bd5d30d364"
      },
      "execution_count": 15,
      "outputs": [
        {
          "output_type": "display_data",
          "data": {
            "text/plain": [
              "<Figure size 1440x576 with 15 Axes>"
            ],
            "image/png": "[encoded data removed]"
          },
          "metadata": {}
        }
      ]
    }
  ]
}